{
 "cells": [
  {
   "cell_type": "code",
   "execution_count": 2,
   "metadata": {},
   "outputs": [
    {
     "name": "stdout",
     "output_type": "stream",
     "text": [
      "Hamming similarity score: 5\n"
     ]
    }
   ],
   "source": [
    "def hamming_similarity(string1, string2):\n",
    "    \"\"\"\n",
    "    حساب مقياس التشابه باستخدام خوارزمية هامينغ.\n",
    "\n",
    "    المدخلات:\n",
    "    - string1 (str): السلسلة الأولى.\n",
    "    - string2 (str): السلسلة الثانية.\n",
    "\n",
    "    الإخراج:\n",
    "    - similarity (int): مقياس التشابه بين السلاسل.\n",
    "\n",
    "    يجب أن تكون السلاسل المدخلة من نفس الطول.\n",
    "    يتم حساب مقياس التشابه بتحديد عدد الأحرف التي تختلف بين السلاسل وإعطاء قيمة\n",
    "    تشابه معكوسة تعبر عن التشابه بين السلاسل.\n",
    "    \"\"\"\n",
    "\n",
    "    if len(string1) != len(string2):\n",
    "        raise ValueError(\"Both strings must have the same length.\")\n",
    "\n",
    "    hamming_distance = 0\n",
    "\n",
    "    for i in range(len(string1)):\n",
    "        if string1[i] != string2[i]:\n",
    "            hamming_distance += 1\n",
    "\n",
    "    similarity = len(string1) - hamming_distance\n",
    "\n",
    "    return similarity\n",
    "\n",
    "\n",
    "def read_binary_file(file_path):\n",
    "    \"\"\"\n",
    "    قراءة الملف النصي واسترداد السلسلة النصية.\n",
    "\n",
    "    المدخلات:\n",
    "    - file_path (str): مسار الملف النصي.\n",
    "\n",
    "    الإخراج:\n",
    "    - binary_string (str): السلسلة النصية المسترجعة من الملف.\n",
    "    \"\"\"\n",
    "\n",
    "    with open(file_path, 'r') as file:\n",
    "        binary_string = file.read().strip()\n",
    "\n",
    "    return binary_string\n",
    "\n",
    "\n",
    "# تحميل الملف النصي الأول\n",
    "file1_path = r'C:\\Users\\DELL/file1.txt'\n",
    "string1 = read_binary_file(file1_path)\n",
    "\n",
    "# تحميل الملف النصي الثاني\n",
    "file2_path = r'C:\\Users\\DELL/file2.txt'\n",
    "string2 = read_binary_file(file2_path)\n",
    "\n",
    "# تطبيق الخوارزمية وحساب مقياس التشابه\n",
    "similarity_score = hamming_similarity(string1, string2)\n",
    "print(\"Hamming similarity score:\", similarity_score)\n",
    "\n"
   ]
  },
  {
   "cell_type": "code",
   "execution_count": null,
   "metadata": {},
   "outputs": [],
   "source": []
  }
 ],
 "metadata": {
  "kernelspec": {
   "display_name": "Python 3",
   "language": "python",
   "name": "python3"
  },
  "language_info": {
   "codemirror_mode": {
    "name": "ipython",
    "version": 3
   },
   "file_extension": ".py",
   "mimetype": "text/x-python",
   "name": "python",
   "nbconvert_exporter": "python",
   "pygments_lexer": "ipython3",
   "version": "3.8.5"
  }
 },
 "nbformat": 4,
 "nbformat_minor": 4
}
